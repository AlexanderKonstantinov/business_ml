{
 "cells": [
  {
   "cell_type": "code",
   "execution_count": 2,
   "metadata": {},
   "outputs": [
    {
     "name": "stderr",
     "output_type": "stream",
     "text": [
      "C:\\Users\\Alexander\\anaconda3\\lib\\site-packages\\sklearn\\utils\\deprecation.py:144: FutureWarning: The sklearn.metrics.scorer module is  deprecated in version 0.22 and will be removed in version 0.24. The corresponding classes / functions should instead be imported from sklearn.metrics. Anything that cannot be imported from sklearn.metrics is now part of the private API.\n",
      "  warnings.warn(message, FutureWarning)\n"
     ]
    }
   ],
   "source": [
    "import pandas as pd\n",
    "from sklearn.metrics import roc_auc_score,roc_curve,scorer\n",
    "import dill\n",
    "dill._dill._reverse_typemap['ClassType'] = type"
   ]
  },
  {
   "cell_type": "code",
   "execution_count": 3,
   "metadata": {},
   "outputs": [],
   "source": [
    "X_test = pd.read_csv(\"data\\X_test.csv\")\n",
    "y_test = pd.read_csv(\"data\\y_test.csv\")"
   ]
  },
  {
   "cell_type": "code",
   "execution_count": 4,
   "metadata": {
    "scrolled": true
   },
   "outputs": [
    {
     "data": {
      "text/html": [
       "<div>\n",
       "<style scoped>\n",
       "    .dataframe tbody tr th:only-of-type {\n",
       "        vertical-align: middle;\n",
       "    }\n",
       "\n",
       "    .dataframe tbody tr th {\n",
       "        vertical-align: top;\n",
       "    }\n",
       "\n",
       "    .dataframe thead th {\n",
       "        text-align: right;\n",
       "    }\n",
       "</style>\n",
       "<table border=\"1\" class=\"dataframe\">\n",
       "  <thead>\n",
       "    <tr style=\"text-align: right;\">\n",
       "      <th></th>\n",
       "      <th>Age</th>\n",
       "      <th>Gender</th>\n",
       "      <th>Polyuria</th>\n",
       "      <th>Polydipsia</th>\n",
       "      <th>sudden weight loss</th>\n",
       "      <th>weakness</th>\n",
       "      <th>Polyphagia</th>\n",
       "      <th>Genital thrush</th>\n",
       "      <th>visual blurring</th>\n",
       "      <th>Itching</th>\n",
       "      <th>Irritability</th>\n",
       "      <th>delayed healing</th>\n",
       "      <th>partial paresis</th>\n",
       "      <th>muscle stiffness</th>\n",
       "      <th>Alopecia</th>\n",
       "      <th>Obesity</th>\n",
       "    </tr>\n",
       "  </thead>\n",
       "  <tbody>\n",
       "    <tr>\n",
       "      <th>0</th>\n",
       "      <td>72</td>\n",
       "      <td>male</td>\n",
       "      <td>yes</td>\n",
       "      <td>no</td>\n",
       "      <td>no</td>\n",
       "      <td>no</td>\n",
       "      <td>yes</td>\n",
       "      <td>no</td>\n",
       "      <td>yes</td>\n",
       "      <td>yes</td>\n",
       "      <td>no</td>\n",
       "      <td>yes</td>\n",
       "      <td>yes</td>\n",
       "      <td>yes</td>\n",
       "      <td>yes</td>\n",
       "      <td>no</td>\n",
       "    </tr>\n",
       "    <tr>\n",
       "      <th>1</th>\n",
       "      <td>40</td>\n",
       "      <td>female</td>\n",
       "      <td>yes</td>\n",
       "      <td>yes</td>\n",
       "      <td>no</td>\n",
       "      <td>yes</td>\n",
       "      <td>yes</td>\n",
       "      <td>no</td>\n",
       "      <td>no</td>\n",
       "      <td>yes</td>\n",
       "      <td>no</td>\n",
       "      <td>no</td>\n",
       "      <td>yes</td>\n",
       "      <td>no</td>\n",
       "      <td>no</td>\n",
       "      <td>no</td>\n",
       "    </tr>\n",
       "    <tr>\n",
       "      <th>2</th>\n",
       "      <td>57</td>\n",
       "      <td>male</td>\n",
       "      <td>yes</td>\n",
       "      <td>yes</td>\n",
       "      <td>no</td>\n",
       "      <td>yes</td>\n",
       "      <td>yes</td>\n",
       "      <td>yes</td>\n",
       "      <td>no</td>\n",
       "      <td>no</td>\n",
       "      <td>no</td>\n",
       "      <td>yes</td>\n",
       "      <td>yes</td>\n",
       "      <td>no</td>\n",
       "      <td>no</td>\n",
       "      <td>no</td>\n",
       "    </tr>\n",
       "  </tbody>\n",
       "</table>\n",
       "</div>"
      ],
      "text/plain": [
       "   Age  Gender Polyuria Polydipsia sudden weight loss weakness Polyphagia  \\\n",
       "0   72    male      yes         no                 no       no        yes   \n",
       "1   40  female      yes        yes                 no      yes        yes   \n",
       "2   57    male      yes        yes                 no      yes        yes   \n",
       "\n",
       "  Genital thrush visual blurring Itching Irritability delayed healing  \\\n",
       "0             no             yes     yes           no             yes   \n",
       "1             no              no     yes           no              no   \n",
       "2            yes              no      no           no             yes   \n",
       "\n",
       "  partial paresis muscle stiffness Alopecia Obesity  \n",
       "0             yes              yes      yes      no  \n",
       "1             yes               no       no      no  \n",
       "2             yes               no       no      no  "
      ]
     },
     "execution_count": 4,
     "metadata": {},
     "output_type": "execute_result"
    }
   ],
   "source": [
    "X_test.head(3)"
   ]
  },
  {
   "cell_type": "code",
   "execution_count": 5,
   "metadata": {},
   "outputs": [],
   "source": [
    "with open('model\\cat_boost_classifier.dill', 'rb') as in_strm:\n",
    "    pipeline = dill.load(in_strm)"
   ]
  },
  {
   "cell_type": "code",
   "execution_count": 6,
   "metadata": {},
   "outputs": [],
   "source": [
    "predictions = pipeline.predict_proba(X_test)\n",
    "pd.DataFrame({'preds': predictions[:, 1]}).to_csv(\"data\\\\test_predictions.csv\", index=None)"
   ]
  },
  {
   "cell_type": "code",
   "execution_count": 7,
   "metadata": {},
   "outputs": [
    {
     "data": {
      "text/plain": [
       "array([[0.98434166, 0.01565834],\n",
       "       [0.00380504, 0.99619496],\n",
       "       [0.00658972, 0.99341028]])"
      ]
     },
     "execution_count": 7,
     "metadata": {},
     "output_type": "execute_result"
    }
   ],
   "source": [
    "predictions[:3]"
   ]
  },
  {
   "cell_type": "code",
   "execution_count": 8,
   "metadata": {},
   "outputs": [
    {
     "data": {
      "text/plain": [
       "array([0.01565834, 0.99619496, 0.99341028, 0.99444793, 0.98202235,\n",
       "       0.99786046, 0.96641218, 0.39861193, 0.83301079, 0.02584816,\n",
       "       0.00868368, 0.99592023, 0.01487209, 0.00388727, 0.98961514,\n",
       "       0.97238042, 0.01183139, 0.99867946, 0.01522407, 0.99031054,\n",
       "       0.84594653, 0.99796682, 0.99787811, 0.98388251, 0.08339586,\n",
       "       0.01378684, 0.99792012, 0.9981266 , 0.00802213, 0.99792012,\n",
       "       0.99847504, 0.99712709, 0.00868368, 0.96082416, 0.01320746,\n",
       "       0.35888101, 0.99712709, 0.01376511, 0.02360408, 0.09403933,\n",
       "       0.99792012, 0.09403933, 0.85195803, 0.99758484, 0.01393023,\n",
       "       0.98513603, 0.01109177, 0.9872802 , 0.96328838, 0.9890729 ,\n",
       "       0.02936697, 0.01109177, 0.99878506, 0.98808886, 0.01487209,\n",
       "       0.80871595, 0.99842344, 0.99780631, 0.70100511, 0.99808371,\n",
       "       0.08339586, 0.99795415, 0.99792012, 0.99808371, 0.95812408,\n",
       "       0.99847504, 0.01115421, 0.82129302, 0.99153643, 0.99625613,\n",
       "       0.77287542, 0.99712709, 0.59614563, 0.9890469 , 0.99878506,\n",
       "       0.98046943, 0.00416316, 0.00659124, 0.98140785, 0.99784741,\n",
       "       0.98633967, 0.98983099, 0.98627044, 0.0281865 , 0.97964715,\n",
       "       0.92119728, 0.98633967, 0.97775042, 0.01817492, 0.99834366,\n",
       "       0.0281865 , 0.99751576, 0.98202235, 0.99842344, 0.00842242,\n",
       "       0.99170097, 0.97379586, 0.94365995, 0.98202235, 0.99887624,\n",
       "       0.0934167 , 0.98627044, 0.00659124, 0.01165336])"
      ]
     },
     "execution_count": 8,
     "metadata": {},
     "output_type": "execute_result"
    }
   ],
   "source": [
    "predictions[:, 1]"
   ]
  },
  {
   "cell_type": "code",
   "execution_count": 16,
   "metadata": {},
   "outputs": [
    {
     "data": {
      "text/plain": [
       "0.9995731967562953"
      ]
     },
     "execution_count": 16,
     "metadata": {},
     "output_type": "execute_result"
    }
   ],
   "source": [
    "roc_auc_score(y_score=predictions[:, 1][:], y_true=y_test.iloc[:])"
   ]
  }
 ],
 "metadata": {
  "kernelspec": {
   "display_name": "Python 3",
   "language": "python",
   "name": "python3"
  }
 },
 "nbformat": 4,
 "nbformat_minor": 4
}
